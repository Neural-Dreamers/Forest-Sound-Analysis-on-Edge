{
  "cells": [
    {
      "cell_type": "code",
      "execution_count": null,
      "metadata": {
        "colab": {
          "base_uri": "https://localhost:8080/"
        },
        "id": "Es0UwbnWPcG2",
        "outputId": "5c9e1800-6659-4a01-99e3-562b1ea7a2bc"
      },
      "outputs": [],
      "source": [
        "import openvino as ov\n",
        "import pandas as pd\n",
        "import os\n",
        "import numpy as np\n",
        "import gc\n",
        "import pickle\n",
        "import warnings\n",
        "from sklearn.metrics import accuracy_score\n",
        "import torch\n",
        "from torch.utils.data import TensorDataset, DataLoader\n",
        "import nncf\n",
        "\n",
        "warnings.filterwarnings('ignore')"
      ]
    },
    {
      "cell_type": "markdown",
      "metadata": {},
      "source": [
        "Import dataset pickle file"
      ]
    },
    {
      "cell_type": "code",
      "execution_count": null,
      "metadata": {
        "id": "YxbljxvATLEs"
      },
      "outputs": [],
      "source": [
        "os.chdir('../..')\n",
        "\n",
        "def get_pickle(pickle_dir, file_name):\n",
        "    pickle_dir = os.path.join(os.getcwd(), 'datasets/fsc22/Pickle Files/' + pickle_dir)\n",
        "    fold_dir = os.path.join(pickle_dir, file_name)\n",
        "    infile = open(fold_dir, 'rb')\n",
        "    fold = pickle.load(infile)\n",
        "    infile.close()\n",
        "\n",
        "    return fold"
      ]
    },
    {
      "cell_type": "code",
      "execution_count": null,
      "metadata": {
        "colab": {
          "base_uri": "https://localhost:8080/"
        },
        "id": "GTDnhHPMTMgl",
        "outputId": "e6a2aba9-47b5-4bd3-bca1-6b2c98d27c70"
      },
      "outputs": [],
      "source": [
        "def get_train_vaild_data():\n",
        "    # enter pickle file directory name, pickle filename for the fold\n",
        "    valid_spects = get_pickle('aug_ts_ps_mixed_features_5_20', 'aug_ts_ps_mixed_features_5_20_fold1') # Change pickle names accordingly\n",
        "\n",
        "    valid_df = pd.DataFrame(valid_spects, columns=['feature', 'class'])\n",
        "\n",
        "    del valid_spects\n",
        "\n",
        "    gc.collect()\n",
        "\n",
        "    X_valid_cv = np.array(valid_df['feature'].tolist())\n",
        "    y_valid_cv = np.array(valid_df['class'].tolist())\n",
        "\n",
        "    return X_valid_cv, y_valid_cv\n",
        "\n",
        "X_valid_cv, y_valid_cv = get_train_vaild_data()\n",
        "\n",
        "print(f'X_valid_cv shape: {np.shape(X_valid_cv)}')\n",
        "print(f'y_valid_cv shape: {np.shape(y_valid_cv)}')"
      ]
    },
    {
      "cell_type": "markdown",
      "metadata": {},
      "source": [
        "Create torch dataloader"
      ]
    },
    {
      "cell_type": "code",
      "execution_count": null,
      "metadata": {
        "id": "nYoqD-KUSM_q"
      },
      "outputs": [],
      "source": [
        "def transform_fn(data_item):\n",
        "    images, _ = data_item\n",
        "    return images\n",
        "\n",
        "# Convert NumPy arrays to PyTorch tensors\n",
        "X_tensor = torch.Tensor(X_valid_cv)\n",
        "y_tensor = torch.Tensor(y_valid_cv)\n",
        "\n",
        "# Create a TensorDataset\n",
        "dataset = TensorDataset(X_tensor, y_tensor)\n",
        "\n",
        "# Specify batch size for DataLoader\n",
        "batch_size = 1\n",
        "\n",
        "# Create a DataLoader\n",
        "dataloader = DataLoader(dataset, batch_size=batch_size, shuffle=True)\n",
        "\n",
        "calibration_dataset = nncf.Dataset(dataloader, transform_fn)\n",
        "validation_dataset = nncf.Dataset(dataloader, transform_fn)"
      ]
    },
    {
      "cell_type": "markdown",
      "metadata": {},
      "source": [
        "Method for validation of quantized model"
      ]
    },
    {
      "cell_type": "code",
      "execution_count": null,
      "metadata": {
        "id": "r3t37KwfgRTq"
      },
      "outputs": [],
      "source": [
        "def validate(model: ov.runtime.CompiledModel,\n",
        "             validation_loader: torch.utils.data.DataLoader) -> float:\n",
        "    predictions = []\n",
        "    references = []\n",
        "\n",
        "    output = model.outputs[0]\n",
        "\n",
        "    for images, target in validation_loader:\n",
        "        pred = model(images)[output]\n",
        "        predictions.append(np.argmax(pred, axis=1))\n",
        "        references.append(target)\n",
        "\n",
        "    predictions = np.concatenate(predictions, axis=0)\n",
        "    references = np.concatenate(references, axis=0)\n",
        "\n",
        "    return accuracy_score(predictions, references)"
      ]
    },
    {
      "cell_type": "markdown",
      "metadata": {},
      "source": [
        "Qunatize the model"
      ]
    },
    {
      "cell_type": "code",
      "execution_count": null,
      "metadata": {
        "colab": {
          "base_uri": "https://localhost:8080/",
          "height": 277,
          "referenced_widgets": [
            "5ced24f4503c4f24bc4e098d1dcc1bf1",
            "fd15651ac257426ab393ad30672792a0",
            "1a365ab338154131807fe1de56a281e0",
            "ab1eadf1ea4c43cf9f6d96e4b13741fe"
          ]
        },
        "id": "yqtyfsXHh2HY",
        "outputId": "a94ee29a-7f3d-44eb-ca5b-92a9c2f948a3"
      },
      "outputs": [],
      "source": [
        "core = ov.Core()\n",
        "\n",
        "# replace with the relative path of the xml file of the model to be pruned\n",
        "ir_model_name_xml = 'models/MobileNetV3-Small/MobileNet_aug5_mel_5fold/MobileNet_aug5_mel_5fold_weight_pruned_0_filter_pruned_0_8_fold1.xml'\n",
        "\n",
        "model = core.read_model(model=ir_model_name_xml)\n",
        "\n",
        "quantized_model = nncf.quantize_with_accuracy_control(\n",
        "    model,\n",
        "    calibration_dataset=calibration_dataset,\n",
        "    validation_dataset=validation_dataset,\n",
        "    validation_fn=validate,\n",
        "    max_drop=0.01\n",
        ")"
      ]
    },
    {
      "cell_type": "markdown",
      "metadata": {},
      "source": [
        "Save the quantized model as OpenVINO IR model"
      ]
    },
    {
      "cell_type": "markdown",
      "metadata": {},
      "source": [
        "Change working directory to model directory"
      ]
    },
    {
      "cell_type": "markdown",
      "metadata": {},
      "source": [
        "Save model without filter pruning mask\n",
        "\n",
        "Enter the save filename of quantized model as output_model argument"
      ]
    },
    {
      "cell_type": "code",
      "execution_count": null,
      "metadata": {
        "colab": {
          "base_uri": "https://localhost:8080/"
        },
        "id": "p3yHbCvZtWdy",
        "outputId": "039897d9-fd85-4b35-d7ca-75a504a753d0"
      },
      "outputs": [],
      "source": [
        "os.chdir('MobileNetV3-Small/MobileNet_aug5_mel_5fold')\n",
        "\n",
        "ov.save_model(quantized_model, output_model=\"model/MobileNetV3-Small_aug5_mel_5fold_weight_pruned_0_9_filter_pruned_0_7_quantized_fold1.xml\")\n",
        "\n",
        "os.chdir('../..')"
      ]
    }
  ],
  "metadata": {
    "accelerator": "GPU",
    "colab": {
      "gpuType": "T4",
      "machine_shape": "hm",
      "provenance": []
    },
    "kernelspec": {
      "display_name": "Python 3",
      "name": "python3"
    },
    "language_info": {
      "codemirror_mode": {
        "name": "ipython",
        "version": 3
      },
      "file_extension": ".py",
      "mimetype": "text/x-python",
      "name": "python",
      "nbconvert_exporter": "python",
      "pygments_lexer": "ipython3",
      "version": "3.10.12"
    },
    "widgets": {
      "application/vnd.jupyter.widget-state+json": {
        "1a365ab338154131807fe1de56a281e0": {
          "model_module": "@jupyter-widgets/output",
          "model_module_version": "1.0.0",
          "model_name": "OutputModel",
          "state": {
            "_dom_classes": [],
            "_model_module": "@jupyter-widgets/output",
            "_model_module_version": "1.0.0",
            "_model_name": "OutputModel",
            "_view_count": null,
            "_view_module": "@jupyter-widgets/output",
            "_view_module_version": "1.0.0",
            "_view_name": "OutputView",
            "layout": "IPY_MODEL_ab1eadf1ea4c43cf9f6d96e4b13741fe",
            "msg_id": "",
            "outputs": [
              {
                "data": {
                  "text/html": "<pre style=\"white-space:pre;overflow-x:auto;line-height:normal;font-family:Menlo,'DejaVu Sans Mono',consolas,'Courier New',monospace\">Applying Fast Bias correction <span style=\"color: #729c1f; text-decoration-color: #729c1f\">━━━━━━━━━━━━━━━━━━━━━━━━━━━━━━━━━━━━━━━━━━━━━━━━━━━━━━</span> <span style=\"color: #800080; text-decoration-color: #800080\">100%</span> <span style=\"color: #0068b5; text-decoration-color: #0068b5\">54/54</span> • <span style=\"color: #0068b5; text-decoration-color: #0068b5\">0:00:01</span> • <span style=\"color: #0068b5; text-decoration-color: #0068b5\">0:00:00</span>\n</pre>\n",
                  "text/plain": "Applying Fast Bias correction \u001b[38;2;114;156;31m━━━━━━━━━━━━━━━━━━━━━━━━━━━━━━━━━━━━━━━━━━━━━━━━━━━━━━\u001b[0m \u001b[35m100%\u001b[0m \u001b[38;2;0;104;181m54/54\u001b[0m • \u001b[38;2;0;104;181m0:00:01\u001b[0m • \u001b[38;2;0;104;181m0:00:00\u001b[0m\n"
                },
                "metadata": {},
                "output_type": "display_data"
              }
            ]
          }
        },
        "5ced24f4503c4f24bc4e098d1dcc1bf1": {
          "model_module": "@jupyter-widgets/output",
          "model_module_version": "1.0.0",
          "model_name": "OutputModel",
          "state": {
            "_dom_classes": [],
            "_model_module": "@jupyter-widgets/output",
            "_model_module_version": "1.0.0",
            "_model_name": "OutputModel",
            "_view_count": null,
            "_view_module": "@jupyter-widgets/output",
            "_view_module_version": "1.0.0",
            "_view_name": "OutputView",
            "layout": "IPY_MODEL_fd15651ac257426ab393ad30672792a0",
            "msg_id": "",
            "outputs": [
              {
                "data": {
                  "text/html": "<pre style=\"white-space:pre;overflow-x:auto;line-height:normal;font-family:Menlo,'DejaVu Sans Mono',consolas,'Courier New',monospace\">Statistics collection <span style=\"color: #729c1f; text-decoration-color: #729c1f\">━━━━━━━━━━━━━━━━━━━━━━━━━━━━━━━━━━━━━━━━━━━━━━━━━━━━━━━━━━━━</span> <span style=\"color: #800080; text-decoration-color: #800080\">100%</span> <span style=\"color: #0068b5; text-decoration-color: #0068b5\">300/300</span> • <span style=\"color: #0068b5; text-decoration-color: #0068b5\">0:00:12</span> • <span style=\"color: #0068b5; text-decoration-color: #0068b5\">0:00:00</span>\n</pre>\n",
                  "text/plain": "Statistics collection \u001b[38;2;114;156;31m━━━━━━━━━━━━━━━━━━━━━━━━━━━━━━━━━━━━━━━━━━━━━━━━━━━━━━━━━━━━\u001b[0m \u001b[35m100%\u001b[0m \u001b[38;2;0;104;181m300/300\u001b[0m • \u001b[38;2;0;104;181m0:00:12\u001b[0m • \u001b[38;2;0;104;181m0:00:00\u001b[0m\n"
                },
                "metadata": {},
                "output_type": "display_data"
              }
            ]
          }
        },
        "ab1eadf1ea4c43cf9f6d96e4b13741fe": {
          "model_module": "@jupyter-widgets/base",
          "model_module_version": "1.2.0",
          "model_name": "LayoutModel",
          "state": {
            "_model_module": "@jupyter-widgets/base",
            "_model_module_version": "1.2.0",
            "_model_name": "LayoutModel",
            "_view_count": null,
            "_view_module": "@jupyter-widgets/base",
            "_view_module_version": "1.2.0",
            "_view_name": "LayoutView",
            "align_content": null,
            "align_items": null,
            "align_self": null,
            "border": null,
            "bottom": null,
            "display": null,
            "flex": null,
            "flex_flow": null,
            "grid_area": null,
            "grid_auto_columns": null,
            "grid_auto_flow": null,
            "grid_auto_rows": null,
            "grid_column": null,
            "grid_gap": null,
            "grid_row": null,
            "grid_template_areas": null,
            "grid_template_columns": null,
            "grid_template_rows": null,
            "height": null,
            "justify_content": null,
            "justify_items": null,
            "left": null,
            "margin": null,
            "max_height": null,
            "max_width": null,
            "min_height": null,
            "min_width": null,
            "object_fit": null,
            "object_position": null,
            "order": null,
            "overflow": null,
            "overflow_x": null,
            "overflow_y": null,
            "padding": null,
            "right": null,
            "top": null,
            "visibility": null,
            "width": null
          }
        },
        "fd15651ac257426ab393ad30672792a0": {
          "model_module": "@jupyter-widgets/base",
          "model_module_version": "1.2.0",
          "model_name": "LayoutModel",
          "state": {
            "_model_module": "@jupyter-widgets/base",
            "_model_module_version": "1.2.0",
            "_model_name": "LayoutModel",
            "_view_count": null,
            "_view_module": "@jupyter-widgets/base",
            "_view_module_version": "1.2.0",
            "_view_name": "LayoutView",
            "align_content": null,
            "align_items": null,
            "align_self": null,
            "border": null,
            "bottom": null,
            "display": null,
            "flex": null,
            "flex_flow": null,
            "grid_area": null,
            "grid_auto_columns": null,
            "grid_auto_flow": null,
            "grid_auto_rows": null,
            "grid_column": null,
            "grid_gap": null,
            "grid_row": null,
            "grid_template_areas": null,
            "grid_template_columns": null,
            "grid_template_rows": null,
            "height": null,
            "justify_content": null,
            "justify_items": null,
            "left": null,
            "margin": null,
            "max_height": null,
            "max_width": null,
            "min_height": null,
            "min_width": null,
            "object_fit": null,
            "object_position": null,
            "order": null,
            "overflow": null,
            "overflow_x": null,
            "overflow_y": null,
            "padding": null,
            "right": null,
            "top": null,
            "visibility": null,
            "width": null
          }
        }
      }
    }
  },
  "nbformat": 4,
  "nbformat_minor": 0
}
